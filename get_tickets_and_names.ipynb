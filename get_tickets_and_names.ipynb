{
 "cells": [
  {
   "cell_type": "code",
   "execution_count": 1,
   "metadata": {},
   "outputs": [],
   "source": [
    "#import the pandas module \n",
    "import pandas as pd"
   ]
  },
  {
   "cell_type": "code",
   "execution_count": 2,
   "metadata": {},
   "outputs": [],
   "source": [
    "#import in the csv's we are looking at\n",
    "organizations = pd.read_csv(\"organizations.csv\", index_col = 0)\n",
    "\n",
    "tickets = pd.read_csv(\"tickets.csv\")\n",
    "\n",
    "users = pd.read_csv(\"users.csv\", index_col = 0)\n",
    "\n",
    "orgs_and_users = pd.read_csv(\"users_with_org_name.csv\")"
   ]
  },
  {
   "cell_type": "code",
   "execution_count": 3,
   "metadata": {},
   "outputs": [],
   "source": [
    "#create a list of just the user ids and their names\n",
    "user_names = users.iloc[:,0:1]"
   ]
  },
  {
   "cell_type": "code",
   "execution_count": 4,
   "metadata": {},
   "outputs": [],
   "source": [
    "#rename id column so we do not have a duplicate when we try to joing\n",
    "tickets = tickets.rename(index=str, columns={\"id\" : \"ticket_id\"})\n",
    "\n",
    "#set our index for the join\n",
    "tickets = tickets.set_index('submitter_id')\n",
    "\n",
    "#this is our table of tickets with submitter names\n",
    "tickets = pd.concat([tickets, user_names], axis=1, join_axes=[tickets.index])"
   ]
  },
  {
   "cell_type": "code",
   "execution_count": 5,
   "metadata": {},
   "outputs": [],
   "source": [
    "tickets = tickets.rename(index=str, columns={\"name\" : \"submitter_name\"})"
   ]
  },
  {
   "cell_type": "code",
   "execution_count": 6,
   "metadata": {},
   "outputs": [],
   "source": [
    "#set our index for the join\n",
    "tickets = tickets.set_index('requester_id')\n",
    "\n",
    "#this is our table of tickets with submitter names\n",
    "tickets = pd.concat([tickets, user_names], axis=1, join_axes=[tickets.index])"
   ]
  },
  {
   "cell_type": "code",
   "execution_count": 7,
   "metadata": {},
   "outputs": [],
   "source": [
    "tickets = tickets.rename(index=str, columns={\"name\" : \"requester_name\"})"
   ]
  },
  {
   "cell_type": "code",
   "execution_count": 8,
   "metadata": {},
   "outputs": [],
   "source": [
    "#set our index for the join\n",
    "tickets = tickets.set_index('assignee_id')\n",
    "\n",
    "#this is our table of tickets with submitter names\n",
    "tickets = pd.concat([tickets, user_names], axis=1, join_axes=[tickets.index])"
   ]
  },
  {
   "cell_type": "code",
   "execution_count": 9,
   "metadata": {},
   "outputs": [],
   "source": [
    "tickets = tickets.rename(index=str, columns={\"name\" : \"asignee_name\"})"
   ]
  },
  {
   "cell_type": "code",
   "execution_count": 10,
   "metadata": {},
   "outputs": [],
   "source": [
    "tickets.to_csv('tickets_with_names.csv')"
   ]
  }
 ],
 "metadata": {
  "kernelspec": {
   "display_name": "Python 3",
   "language": "python",
   "name": "python3"
  },
  "language_info": {
   "codemirror_mode": {
    "name": "ipython",
    "version": 3
   },
   "file_extension": ".py",
   "mimetype": "text/x-python",
   "name": "python",
   "nbconvert_exporter": "python",
   "pygments_lexer": "ipython3",
   "version": "3.7.3"
  }
 },
 "nbformat": 4,
 "nbformat_minor": 2
}
