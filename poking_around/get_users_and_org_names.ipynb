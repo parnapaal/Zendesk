{
 "cells": [
  {
   "cell_type": "code",
   "execution_count": 86,
   "metadata": {},
   "outputs": [],
   "source": [
    "#import the pandas module \n",
    "import pandas as pd"
   ]
  },
  {
   "cell_type": "code",
   "execution_count": 87,
   "metadata": {},
   "outputs": [],
   "source": [
    "#import in the csv's we are looking at\n",
    "organizations = pd.read_csv(\"organizations.csv\", index_col = 0)\n",
    "\n",
    "tickets = pd.read_csv(\"tickets.csv\")\n",
    "\n",
    "users = pd.read_csv(\"users.csv\")"
   ]
  },
  {
   "cell_type": "code",
   "execution_count": 79,
   "metadata": {},
   "outputs": [],
   "source": [
    "#create a list of just the organization ids and their names\n",
    "organization_names = organizations.iloc[:,0:1]"
   ]
  },
  {
   "cell_type": "code",
   "execution_count": 80,
   "metadata": {},
   "outputs": [],
   "source": [
    "organization_names = organization_names.rename(index=str, columns={\"name\" : \"org_name\"})\n",
    "\n",
    "user = users.rename(index=str, columns={\"name\" : \"user_name\"})"
   ]
  },
  {
   "cell_type": "code",
   "execution_count": 81,
   "metadata": {},
   "outputs": [],
   "source": [
    "#explode out rows with multiple associated organization IDs -- might change this step in the future to just\n",
    "# pick the first organization id as the default? \n",
    "s = users['organization_id'].str.split(',').apply(pd.Series, 1).stack()\n",
    "\n",
    "s.index = s.index.droplevel(-1)\n",
    "\n",
    "s.name = 'organization_id'\n",
    "\n",
    "del users['organization_id']\n",
    "\n",
    "users = users.join(s)"
   ]
  },
  {
   "cell_type": "code",
   "execution_count": 82,
   "metadata": {},
   "outputs": [],
   "source": [
    "#take out extra formatting from the organization id like [ and  ''\n",
    "users['organization_id'] = users['organization_id'].map(lambda x: x.lstrip(\"[' \").rstrip(\"'] \"))"
   ]
  },
  {
   "cell_type": "code",
   "execution_count": 83,
   "metadata": {},
   "outputs": [],
   "source": [
    "#set our index for the join\n",
    "users = users.set_index('organization_id')"
   ]
  },
  {
   "cell_type": "code",
   "execution_count": 89,
   "metadata": {},
   "outputs": [],
   "source": [
    "#this is our table of users with their organization names\n",
    "result = pd.concat([users, organization_names], axis=1, join_axes=[users.index])"
   ]
  },
  {
   "cell_type": "code",
   "execution_count": null,
   "metadata": {},
   "outputs": [],
   "source": []
  },
  {
   "cell_type": "code",
   "execution_count": 91,
   "metadata": {},
   "outputs": [],
   "source": []
  },
  {
   "cell_type": "code",
   "execution_count": 74,
   "metadata": {},
   "outputs": [],
   "source": []
  },
  {
   "cell_type": "code",
   "execution_count": 92,
   "metadata": {},
   "outputs": [],
   "source": []
  },
  {
   "cell_type": "code",
   "execution_count": 28,
   "metadata": {},
   "outputs": [],
   "source": []
  },
  {
   "cell_type": "code",
   "execution_count": null,
   "metadata": {},
   "outputs": [],
   "source": []
  },
  {
   "cell_type": "code",
   "execution_count": 93,
   "metadata": {},
   "outputs": [],
   "source": [
    "#this was to find the repeated emails of users\n",
    "#result = pd.concat(g for _, g in result.groupby(\"email\") if len(g) > 1)"
   ]
  },
  {
   "cell_type": "code",
   "execution_count": null,
   "metadata": {},
   "outputs": [],
   "source": []
  }
 ],
 "metadata": {
  "kernelspec": {
   "display_name": "Python 3",
   "language": "python",
   "name": "python3"
  },
  "language_info": {
   "codemirror_mode": {
    "name": "ipython",
    "version": 3
   },
   "file_extension": ".py",
   "mimetype": "text/x-python",
   "name": "python",
   "nbconvert_exporter": "python",
   "pygments_lexer": "ipython3",
   "version": "3.7.3"
  }
 },
 "nbformat": 4,
 "nbformat_minor": 2
}
